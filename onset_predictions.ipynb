{
 "cells": [
  {
   "cell_type": "code",
   "execution_count": 1,
   "metadata": {},
   "outputs": [],
   "source": [
    "#import modules\n",
    "\n",
    "import sys\n",
    "import os\n",
    "import numpy as np\n",
    "import matplotlib.pyplot as plt\n",
    "import pandas as pd\n",
    "%matplotlib inline\n",
    "np.random.seed(42)"
   ]
  },
  {
   "cell_type": "markdown",
   "metadata": {},
   "source": [
    "# Get the data"
   ]
  },
  {
   "cell_type": "code",
   "execution_count": 2,
   "metadata": {},
   "outputs": [],
   "source": [
    "#locate file directory\n",
    "\n",
    "current = os.getcwd()\n",
    "path = os.path.join(current, 'VAERSData')\n",
    "file_names = os.listdir(path) \n"
   ]
  },
  {
   "cell_type": "code",
   "execution_count": 3,
   "metadata": {},
   "outputs": [
    {
     "data": {
      "text/html": [
       "<div>\n",
       "<style scoped>\n",
       "    .dataframe tbody tr th:only-of-type {\n",
       "        vertical-align: middle;\n",
       "    }\n",
       "\n",
       "    .dataframe tbody tr th {\n",
       "        vertical-align: top;\n",
       "    }\n",
       "\n",
       "    .dataframe thead th {\n",
       "        text-align: right;\n",
       "    }\n",
       "</style>\n",
       "<table border=\"1\" class=\"dataframe\">\n",
       "  <thead>\n",
       "    <tr style=\"text-align: right;\">\n",
       "      <th></th>\n",
       "      <th>VAERS_ID</th>\n",
       "      <th>STATE</th>\n",
       "      <th>AGE_YRS</th>\n",
       "      <th>SEX</th>\n",
       "      <th>DIED</th>\n",
       "      <th>RECOVD</th>\n",
       "      <th>OTHER_MEDS</th>\n",
       "      <th>CUR_ILL</th>\n",
       "      <th>HISTORY</th>\n",
       "      <th>PRIOR_VAX</th>\n",
       "      <th>ALLERGIES</th>\n",
       "      <th>START_DATE</th>\n",
       "    </tr>\n",
       "  </thead>\n",
       "  <tbody>\n",
       "    <tr>\n",
       "      <th>0</th>\n",
       "      <td>1038288</td>\n",
       "      <td>NY</td>\n",
       "      <td>67.0</td>\n",
       "      <td>F</td>\n",
       "      <td>N</td>\n",
       "      <td>Y</td>\n",
       "      <td>Y</td>\n",
       "      <td>Y</td>\n",
       "      <td>Y</td>\n",
       "      <td>Y</td>\n",
       "      <td>N</td>\n",
       "      <td>0</td>\n",
       "    </tr>\n",
       "    <tr>\n",
       "      <th>1</th>\n",
       "      <td>1038289</td>\n",
       "      <td>MA</td>\n",
       "      <td>59.0</td>\n",
       "      <td>M</td>\n",
       "      <td>N</td>\n",
       "      <td>Y</td>\n",
       "      <td>N</td>\n",
       "      <td>N</td>\n",
       "      <td>N</td>\n",
       "      <td>N</td>\n",
       "      <td>N</td>\n",
       "      <td>0</td>\n",
       "    </tr>\n",
       "    <tr>\n",
       "      <th>2</th>\n",
       "      <td>1038290</td>\n",
       "      <td>IL</td>\n",
       "      <td>68.0</td>\n",
       "      <td>M</td>\n",
       "      <td>Y</td>\n",
       "      <td>N</td>\n",
       "      <td>Y</td>\n",
       "      <td>Y</td>\n",
       "      <td>Y</td>\n",
       "      <td>N</td>\n",
       "      <td>Y</td>\n",
       "      <td>0</td>\n",
       "    </tr>\n",
       "    <tr>\n",
       "      <th>3</th>\n",
       "      <td>1038291</td>\n",
       "      <td>FL</td>\n",
       "      <td>82.0</td>\n",
       "      <td>F</td>\n",
       "      <td>N</td>\n",
       "      <td>N</td>\n",
       "      <td>Y</td>\n",
       "      <td>N</td>\n",
       "      <td>Y</td>\n",
       "      <td>N</td>\n",
       "      <td>N</td>\n",
       "      <td>30</td>\n",
       "    </tr>\n",
       "    <tr>\n",
       "      <th>4</th>\n",
       "      <td>1038292</td>\n",
       "      <td>MA</td>\n",
       "      <td>74.0</td>\n",
       "      <td>F</td>\n",
       "      <td>N</td>\n",
       "      <td>U</td>\n",
       "      <td>Y</td>\n",
       "      <td>N</td>\n",
       "      <td>Y</td>\n",
       "      <td>N</td>\n",
       "      <td>Y</td>\n",
       "      <td>0</td>\n",
       "    </tr>\n",
       "  </tbody>\n",
       "</table>\n",
       "</div>"
      ],
      "text/plain": [
       "   VAERS_ID STATE  AGE_YRS SEX DIED RECOVD OTHER_MEDS CUR_ILL HISTORY  \\\n",
       "0   1038288    NY     67.0   F    N      Y          Y       Y       Y   \n",
       "1   1038289    MA     59.0   M    N      Y          N       N       N   \n",
       "2   1038290    IL     68.0   M    Y      N          Y       Y       Y   \n",
       "3   1038291    FL     82.0   F    N      N          Y       N       Y   \n",
       "4   1038292    MA     74.0   F    N      U          Y       N       Y   \n",
       "\n",
       "  PRIOR_VAX ALLERGIES  START_DATE  \n",
       "0         Y         N           0  \n",
       "1         N         N           0  \n",
       "2         N         Y           0  \n",
       "3         N         N          30  \n",
       "4         N         Y           0  "
      ]
     },
     "execution_count": 3,
     "metadata": {},
     "output_type": "execute_result"
    }
   ],
   "source": [
    "\n",
    "data_index = len(file_names)-1\n",
    "\n",
    "data = pd.read_csv(os.path.join(path, file_names[data_index]), encoding= \"UTF-8\")\n",
    "\n",
    "data.head()\n",
    "\n",
    "\n",
    " "
   ]
  },
  {
   "cell_type": "code",
   "execution_count": 82,
   "metadata": {},
   "outputs": [
    {
     "name": "stdout",
     "output_type": "stream",
     "text": [
      "<class 'pandas.core.frame.DataFrame'>\n",
      "RangeIndex: 450822 entries, 0 to 450821\n",
      "Data columns (total 12 columns):\n",
      " #   Column      Non-Null Count   Dtype  \n",
      "---  ------      --------------   -----  \n",
      " 0   VAERS_ID    450822 non-null  int64  \n",
      " 1   STATE       450822 non-null  object \n",
      " 2   AGE_YRS     450822 non-null  float64\n",
      " 3   SEX         450822 non-null  object \n",
      " 4   DIED        450822 non-null  object \n",
      " 5   RECOVD      450822 non-null  object \n",
      " 6   OTHER_MEDS  450822 non-null  object \n",
      " 7   CUR_ILL     450822 non-null  object \n",
      " 8   HISTORY     450822 non-null  object \n",
      " 9   PRIOR_VAX   450822 non-null  object \n",
      " 10  ALLERGIES   450822 non-null  object \n",
      " 11  START_DATE  450822 non-null  int64  \n",
      "dtypes: float64(1), int64(2), object(9)\n",
      "memory usage: 41.3+ MB\n"
     ]
    }
   ],
   "source": [
    "data.info()"
   ]
  },
  {
   "cell_type": "code",
   "execution_count": 114,
   "metadata": {},
   "outputs": [
    {
     "data": {
      "text/plain": [
       "array(['AK', 'AL', 'AR', 'AS', 'AZ', 'CA', 'CO', 'CT', 'Ca', 'DC', 'DE',\n",
       "       'FL', 'FM', 'GA', 'GU', 'HI', 'IA', 'ID', 'IL', 'IN', 'KS', 'KY',\n",
       "       'LA', 'MA', 'MD', 'ME', 'MH', 'MI', 'MN', 'MO', 'MP', 'MS', 'MT',\n",
       "       'NC', 'ND', 'NE', 'NH', 'NJ', 'NM', 'NV', 'NY', 'None', 'OH', 'OK',\n",
       "       'OR', 'PA', 'PR', 'QM', 'RI', 'SC', 'SD', 'TN', 'TX', 'UT', 'VA',\n",
       "       'VI', 'VT', 'WA', 'WI', 'WV', 'WY', 'XB', 'XL', 'XV'], dtype=object)"
      ]
     },
     "execution_count": 114,
     "metadata": {},
     "output_type": "execute_result"
    }
   ],
   "source": [
    "np.sort(data[\"STATE\"].unique())\n",
    "\n",
    "# make the following set of changes [\"AS : AZ\", \" Ca : CA\", \"DC : WA\", \"FM: FL\",\"MH : MA\", \"MP : MS\", \"None :DELETE\",\"PR:DELETE\",\"QM:DELETE\",\"VI:VA\",\"XB:DELETE\",\"XL:DELETE\",\"XV:DELETE\"  ]\n"
   ]
  },
  {
   "cell_type": "code",
   "execution_count": 26,
   "metadata": {},
   "outputs": [
    {
     "data": {
      "text/html": [
       "<div>\n",
       "<style scoped>\n",
       "    .dataframe tbody tr th:only-of-type {\n",
       "        vertical-align: middle;\n",
       "    }\n",
       "\n",
       "    .dataframe tbody tr th {\n",
       "        vertical-align: top;\n",
       "    }\n",
       "\n",
       "    .dataframe thead th {\n",
       "        text-align: right;\n",
       "    }\n",
       "</style>\n",
       "<table border=\"1\" class=\"dataframe\">\n",
       "  <thead>\n",
       "    <tr style=\"text-align: right;\">\n",
       "      <th></th>\n",
       "      <th>VAERS_ID</th>\n",
       "      <th>AGE_YRS</th>\n",
       "      <th>START_DATE</th>\n",
       "    </tr>\n",
       "  </thead>\n",
       "  <tbody>\n",
       "    <tr>\n",
       "      <th>count</th>\n",
       "      <td>4.508220e+05</td>\n",
       "      <td>450822.000000</td>\n",
       "      <td>450822.000000</td>\n",
       "    </tr>\n",
       "    <tr>\n",
       "      <th>mean</th>\n",
       "      <td>1.272297e+06</td>\n",
       "      <td>48.547712</td>\n",
       "      <td>21.380265</td>\n",
       "    </tr>\n",
       "    <tr>\n",
       "      <th>std</th>\n",
       "      <td>2.304917e+05</td>\n",
       "      <td>18.488988</td>\n",
       "      <td>49.780987</td>\n",
       "    </tr>\n",
       "    <tr>\n",
       "      <th>min</th>\n",
       "      <td>9.166000e+05</td>\n",
       "      <td>0.000000</td>\n",
       "      <td>0.000000</td>\n",
       "    </tr>\n",
       "    <tr>\n",
       "      <th>25%</th>\n",
       "      <td>1.078538e+06</td>\n",
       "      <td>34.000000</td>\n",
       "      <td>0.000000</td>\n",
       "    </tr>\n",
       "    <tr>\n",
       "      <th>50%</th>\n",
       "      <td>1.240232e+06</td>\n",
       "      <td>48.500000</td>\n",
       "      <td>0.000000</td>\n",
       "    </tr>\n",
       "    <tr>\n",
       "      <th>75%</th>\n",
       "      <td>1.459020e+06</td>\n",
       "      <td>63.000000</td>\n",
       "      <td>21.000000</td>\n",
       "    </tr>\n",
       "    <tr>\n",
       "      <th>max</th>\n",
       "      <td>1.730988e+06</td>\n",
       "      <td>119.000000</td>\n",
       "      <td>356.000000</td>\n",
       "    </tr>\n",
       "  </tbody>\n",
       "</table>\n",
       "</div>"
      ],
      "text/plain": [
       "           VAERS_ID        AGE_YRS     START_DATE\n",
       "count  4.508220e+05  450822.000000  450822.000000\n",
       "mean   1.272297e+06      48.547712      21.380265\n",
       "std    2.304917e+05      18.488988      49.780987\n",
       "min    9.166000e+05       0.000000       0.000000\n",
       "25%    1.078538e+06      34.000000       0.000000\n",
       "50%    1.240232e+06      48.500000       0.000000\n",
       "75%    1.459020e+06      63.000000      21.000000\n",
       "max    1.730988e+06     119.000000     356.000000"
      ]
     },
     "execution_count": 26,
     "metadata": {},
     "output_type": "execute_result"
    }
   ],
   "source": [
    "data.describe()"
   ]
  },
  {
   "cell_type": "markdown",
   "metadata": {},
   "source": [
    "---"
   ]
  },
  {
   "cell_type": "markdown",
   "metadata": {},
   "source": [
    "# Split the data(statified by age)"
   ]
  },
  {
   "cell_type": "code",
   "execution_count": 43,
   "metadata": {},
   "outputs": [
    {
     "name": "stdout",
     "output_type": "stream",
     "text": [
      "119.0\n"
     ]
    }
   ],
   "source": [
    "print(max(data[\"AGE_YRS\"])-min(data[\"AGE_YRS\"]))"
   ]
  },
  {
   "cell_type": "code",
   "execution_count": 4,
   "metadata": {},
   "outputs": [],
   "source": [
    "target_maps = np.arange(0,120,12)\n"
   ]
  },
  {
   "cell_type": "code",
   "execution_count": 5,
   "metadata": {},
   "outputs": [],
   "source": [
    "data_catagory = []\n",
    "\n",
    "for x in data[\"AGE_YRS\"]:\n",
    "    minimum = 1000\n",
    "    best_map = 0\n",
    "    for y in target_maps:\n",
    "        difference = abs(x-y)\n",
    "        if difference < minimum:\n",
    "            minimum = difference\n",
    "            best_map = y\n",
    "    data_catagory.append(best_map)"
   ]
  },
  {
   "cell_type": "code",
   "execution_count": 6,
   "metadata": {},
   "outputs": [],
   "source": [
    "data[\"data_catagory\"] = data_catagory"
   ]
  },
  {
   "cell_type": "code",
   "execution_count": 7,
   "metadata": {},
   "outputs": [
    {
     "data": {
      "text/html": [
       "<div>\n",
       "<style scoped>\n",
       "    .dataframe tbody tr th:only-of-type {\n",
       "        vertical-align: middle;\n",
       "    }\n",
       "\n",
       "    .dataframe tbody tr th {\n",
       "        vertical-align: top;\n",
       "    }\n",
       "\n",
       "    .dataframe thead th {\n",
       "        text-align: right;\n",
       "    }\n",
       "</style>\n",
       "<table border=\"1\" class=\"dataframe\">\n",
       "  <thead>\n",
       "    <tr style=\"text-align: right;\">\n",
       "      <th></th>\n",
       "      <th>VAERS_ID</th>\n",
       "      <th>STATE</th>\n",
       "      <th>AGE_YRS</th>\n",
       "      <th>SEX</th>\n",
       "      <th>DIED</th>\n",
       "      <th>RECOVD</th>\n",
       "      <th>OTHER_MEDS</th>\n",
       "      <th>CUR_ILL</th>\n",
       "      <th>HISTORY</th>\n",
       "      <th>PRIOR_VAX</th>\n",
       "      <th>ALLERGIES</th>\n",
       "      <th>START_DATE</th>\n",
       "      <th>data_catagory</th>\n",
       "    </tr>\n",
       "  </thead>\n",
       "  <tbody>\n",
       "    <tr>\n",
       "      <th>0</th>\n",
       "      <td>1038288</td>\n",
       "      <td>NY</td>\n",
       "      <td>67.0</td>\n",
       "      <td>F</td>\n",
       "      <td>N</td>\n",
       "      <td>Y</td>\n",
       "      <td>Y</td>\n",
       "      <td>Y</td>\n",
       "      <td>Y</td>\n",
       "      <td>Y</td>\n",
       "      <td>N</td>\n",
       "      <td>0</td>\n",
       "      <td>72</td>\n",
       "    </tr>\n",
       "    <tr>\n",
       "      <th>1</th>\n",
       "      <td>1038289</td>\n",
       "      <td>MA</td>\n",
       "      <td>59.0</td>\n",
       "      <td>M</td>\n",
       "      <td>N</td>\n",
       "      <td>Y</td>\n",
       "      <td>N</td>\n",
       "      <td>N</td>\n",
       "      <td>N</td>\n",
       "      <td>N</td>\n",
       "      <td>N</td>\n",
       "      <td>0</td>\n",
       "      <td>60</td>\n",
       "    </tr>\n",
       "    <tr>\n",
       "      <th>2</th>\n",
       "      <td>1038290</td>\n",
       "      <td>IL</td>\n",
       "      <td>68.0</td>\n",
       "      <td>M</td>\n",
       "      <td>Y</td>\n",
       "      <td>N</td>\n",
       "      <td>Y</td>\n",
       "      <td>Y</td>\n",
       "      <td>Y</td>\n",
       "      <td>N</td>\n",
       "      <td>Y</td>\n",
       "      <td>0</td>\n",
       "      <td>72</td>\n",
       "    </tr>\n",
       "    <tr>\n",
       "      <th>3</th>\n",
       "      <td>1038291</td>\n",
       "      <td>FL</td>\n",
       "      <td>82.0</td>\n",
       "      <td>F</td>\n",
       "      <td>N</td>\n",
       "      <td>N</td>\n",
       "      <td>Y</td>\n",
       "      <td>N</td>\n",
       "      <td>Y</td>\n",
       "      <td>N</td>\n",
       "      <td>N</td>\n",
       "      <td>30</td>\n",
       "      <td>84</td>\n",
       "    </tr>\n",
       "    <tr>\n",
       "      <th>4</th>\n",
       "      <td>1038292</td>\n",
       "      <td>MA</td>\n",
       "      <td>74.0</td>\n",
       "      <td>F</td>\n",
       "      <td>N</td>\n",
       "      <td>U</td>\n",
       "      <td>Y</td>\n",
       "      <td>N</td>\n",
       "      <td>Y</td>\n",
       "      <td>N</td>\n",
       "      <td>Y</td>\n",
       "      <td>0</td>\n",
       "      <td>72</td>\n",
       "    </tr>\n",
       "  </tbody>\n",
       "</table>\n",
       "</div>"
      ],
      "text/plain": [
       "   VAERS_ID STATE  AGE_YRS SEX DIED RECOVD OTHER_MEDS CUR_ILL HISTORY  \\\n",
       "0   1038288    NY     67.0   F    N      Y          Y       Y       Y   \n",
       "1   1038289    MA     59.0   M    N      Y          N       N       N   \n",
       "2   1038290    IL     68.0   M    Y      N          Y       Y       Y   \n",
       "3   1038291    FL     82.0   F    N      N          Y       N       Y   \n",
       "4   1038292    MA     74.0   F    N      U          Y       N       Y   \n",
       "\n",
       "  PRIOR_VAX ALLERGIES  START_DATE  data_catagory  \n",
       "0         Y         N           0             72  \n",
       "1         N         N           0             60  \n",
       "2         N         Y           0             72  \n",
       "3         N         N          30             84  \n",
       "4         N         Y           0             72  "
      ]
     },
     "execution_count": 7,
     "metadata": {},
     "output_type": "execute_result"
    }
   ],
   "source": [
    "data.head()"
   ]
  },
  {
   "cell_type": "code",
   "execution_count": 86,
   "metadata": {},
   "outputs": [
    {
     "data": {
      "text/plain": [
       "<AxesSubplot:>"
      ]
     },
     "execution_count": 86,
     "metadata": {},
     "output_type": "execute_result"
    },
    {
     "data": {
      "image/png": "[encoded data removed]",
      "text/plain": [
       "<Figure size 432x288 with 1 Axes>"
      ]
     },
     "metadata": {
      "needs_background": "light"
     },
     "output_type": "display_data"
    }
   ],
   "source": [
    "data['AGE_YRS'].hist(bins = 30)\n",
    "data[\"data_catagory\"].hist(bins = 30)"
   ]
  },
  {
   "cell_type": "code",
   "execution_count": 8,
   "metadata": {},
   "outputs": [],
   "source": [
    "\n",
    "from sklearn.model_selection import StratifiedShuffleSplit\n",
    "\n",
    "split = StratifiedShuffleSplit(n_splits=1, test_size=0.2, random_state=42)\n"
   ]
  },
  {
   "cell_type": "code",
   "execution_count": 9,
   "metadata": {},
   "outputs": [
    {
     "name": "stdout",
     "output_type": "stream",
     "text": [
      "<class 'pandas.core.frame.DataFrame'>\n",
      "Int64Index: 360657 entries, 137201 to 264124\n",
      "Data columns (total 13 columns):\n",
      " #   Column         Non-Null Count   Dtype  \n",
      "---  ------         --------------   -----  \n",
      " 0   VAERS_ID       360657 non-null  int64  \n",
      " 1   STATE          360657 non-null  object \n",
      " 2   AGE_YRS        360657 non-null  float64\n",
      " 3   SEX            360657 non-null  object \n",
      " 4   DIED           360657 non-null  object \n",
      " 5   RECOVD         360657 non-null  object \n",
      " 6   OTHER_MEDS     360657 non-null  object \n",
      " 7   CUR_ILL        360657 non-null  object \n",
      " 8   HISTORY        360657 non-null  object \n",
      " 9   PRIOR_VAX      360657 non-null  object \n",
      " 10  ALLERGIES      360657 non-null  object \n",
      " 11  START_DATE     360657 non-null  int64  \n",
      " 12  data_catagory  360657 non-null  int64  \n",
      "dtypes: float64(1), int64(3), object(9)\n",
      "memory usage: 38.5+ MB\n",
      "<class 'pandas.core.frame.DataFrame'>\n",
      "Int64Index: 90165 entries, 61106 to 185971\n",
      "Data columns (total 13 columns):\n",
      " #   Column         Non-Null Count  Dtype  \n",
      "---  ------         --------------  -----  \n",
      " 0   VAERS_ID       90165 non-null  int64  \n",
      " 1   STATE          90165 non-null  object \n",
      " 2   AGE_YRS        90165 non-null  float64\n",
      " 3   SEX            90165 non-null  object \n",
      " 4   DIED           90165 non-null  object \n",
      " 5   RECOVD         90165 non-null  object \n",
      " 6   OTHER_MEDS     90165 non-null  object \n",
      " 7   CUR_ILL        90165 non-null  object \n",
      " 8   HISTORY        90165 non-null  object \n",
      " 9   PRIOR_VAX      90165 non-null  object \n",
      " 10  ALLERGIES      90165 non-null  object \n",
      " 11  START_DATE     90165 non-null  int64  \n",
      " 12  data_catagory  90165 non-null  int64  \n",
      "dtypes: float64(1), int64(3), object(9)\n",
      "memory usage: 9.6+ MB\n"
     ]
    }
   ],
   "source": [
    "for train_index, test_index in split.split(data, data[\"data_catagory\"]):\n",
    "    strat_train_set = data.reindex(index = train_index )\n",
    "    strat_test_set = data.reindex(index = test_index )\n",
    "    \n",
    "    \n",
    "strat_train_set.info()\n",
    "strat_test_set.info()"
   ]
  },
  {
   "cell_type": "code",
   "execution_count": 91,
   "metadata": {},
   "outputs": [
    {
     "data": {
      "text/plain": [
       "48     0.231843\n",
       "36     0.196210\n",
       "60     0.195944\n",
       "72     0.138716\n",
       "24     0.131799\n",
       "12     0.053580\n",
       "84     0.042833\n",
       "96     0.006371\n",
       "0      0.002631\n",
       "108    0.000073\n",
       "Name: data_catagory, dtype: float64"
      ]
     },
     "execution_count": 91,
     "metadata": {},
     "output_type": "execute_result"
    }
   ],
   "source": [
    "data[\"data_catagory\"].value_counts() / len(data)"
   ]
  },
  {
   "cell_type": "code",
   "execution_count": 10,
   "metadata": {},
   "outputs": [],
   "source": [
    "for set in (strat_train_set, strat_test_set):        #remove the data_catagory attribute so the data is back to its original state      \n",
    "    set.drop([\"data_catagory\"], axis=1, inplace=True)"
   ]
  },
  {
   "cell_type": "code",
   "execution_count": 94,
   "metadata": {},
   "outputs": [
    {
     "data": {
      "text/html": [
       "<div>\n",
       "<style scoped>\n",
       "    .dataframe tbody tr th:only-of-type {\n",
       "        vertical-align: middle;\n",
       "    }\n",
       "\n",
       "    .dataframe tbody tr th {\n",
       "        vertical-align: top;\n",
       "    }\n",
       "\n",
       "    .dataframe thead th {\n",
       "        text-align: right;\n",
       "    }\n",
       "</style>\n",
       "<table border=\"1\" class=\"dataframe\">\n",
       "  <thead>\n",
       "    <tr style=\"text-align: right;\">\n",
       "      <th></th>\n",
       "      <th>VAERS_ID</th>\n",
       "      <th>STATE</th>\n",
       "      <th>AGE_YRS</th>\n",
       "      <th>SEX</th>\n",
       "      <th>DIED</th>\n",
       "      <th>RECOVD</th>\n",
       "      <th>OTHER_MEDS</th>\n",
       "      <th>CUR_ILL</th>\n",
       "      <th>HISTORY</th>\n",
       "      <th>PRIOR_VAX</th>\n",
       "      <th>ALLERGIES</th>\n",
       "      <th>START_DATE</th>\n",
       "    </tr>\n",
       "  </thead>\n",
       "  <tbody>\n",
       "    <tr>\n",
       "      <th>137201</th>\n",
       "      <td>1609860</td>\n",
       "      <td>IL</td>\n",
       "      <td>53.0</td>\n",
       "      <td>F</td>\n",
       "      <td>N</td>\n",
       "      <td>U</td>\n",
       "      <td>N</td>\n",
       "      <td>N</td>\n",
       "      <td>N</td>\n",
       "      <td>N</td>\n",
       "      <td>N</td>\n",
       "      <td>0</td>\n",
       "    </tr>\n",
       "    <tr>\n",
       "      <th>184339</th>\n",
       "      <td>1267698</td>\n",
       "      <td>MO</td>\n",
       "      <td>19.0</td>\n",
       "      <td>F</td>\n",
       "      <td>N</td>\n",
       "      <td>Y</td>\n",
       "      <td>Y</td>\n",
       "      <td>N</td>\n",
       "      <td>N</td>\n",
       "      <td>N</td>\n",
       "      <td>N</td>\n",
       "      <td>1</td>\n",
       "    </tr>\n",
       "    <tr>\n",
       "      <th>393926</th>\n",
       "      <td>1598365</td>\n",
       "      <td>FL</td>\n",
       "      <td>75.0</td>\n",
       "      <td>F</td>\n",
       "      <td>N</td>\n",
       "      <td>Y</td>\n",
       "      <td>Y</td>\n",
       "      <td>N</td>\n",
       "      <td>N</td>\n",
       "      <td>N</td>\n",
       "      <td>N</td>\n",
       "      <td>0</td>\n",
       "    </tr>\n",
       "    <tr>\n",
       "      <th>206765</th>\n",
       "      <td>1174256</td>\n",
       "      <td>CA</td>\n",
       "      <td>42.0</td>\n",
       "      <td>F</td>\n",
       "      <td>N</td>\n",
       "      <td>Y</td>\n",
       "      <td>Y</td>\n",
       "      <td>Y</td>\n",
       "      <td>Y</td>\n",
       "      <td>N</td>\n",
       "      <td>N</td>\n",
       "      <td>30</td>\n",
       "    </tr>\n",
       "    <tr>\n",
       "      <th>365061</th>\n",
       "      <td>1343632</td>\n",
       "      <td>UT</td>\n",
       "      <td>34.0</td>\n",
       "      <td>F</td>\n",
       "      <td>N</td>\n",
       "      <td>Y</td>\n",
       "      <td>Y</td>\n",
       "      <td>N</td>\n",
       "      <td>Y</td>\n",
       "      <td>N</td>\n",
       "      <td>Y</td>\n",
       "      <td>3</td>\n",
       "    </tr>\n",
       "  </tbody>\n",
       "</table>\n",
       "</div>"
      ],
      "text/plain": [
       "        VAERS_ID STATE  AGE_YRS SEX DIED RECOVD OTHER_MEDS CUR_ILL HISTORY  \\\n",
       "137201   1609860    IL     53.0   F    N      U          N       N       N   \n",
       "184339   1267698    MO     19.0   F    N      Y          Y       N       N   \n",
       "393926   1598365    FL     75.0   F    N      Y          Y       N       N   \n",
       "206765   1174256    CA     42.0   F    N      Y          Y       Y       Y   \n",
       "365061   1343632    UT     34.0   F    N      Y          Y       N       Y   \n",
       "\n",
       "       PRIOR_VAX ALLERGIES  START_DATE  \n",
       "137201         N         N           0  \n",
       "184339         N         N           1  \n",
       "393926         N         N           0  \n",
       "206765         N         N          30  \n",
       "365061         N         Y           3  "
      ]
     },
     "execution_count": 94,
     "metadata": {},
     "output_type": "execute_result"
    }
   ],
   "source": [
    "strat_train_set.head()"
   ]
  },
  {
   "cell_type": "markdown",
   "metadata": {},
   "source": [
    "---"
   ]
  },
  {
   "cell_type": "markdown",
   "metadata": {},
   "source": [
    "# Discover and Visualize the Data to Gain Insights"
   ]
  },
  {
   "cell_type": "code",
   "execution_count": 187,
   "metadata": {},
   "outputs": [],
   "source": [
    "explore = strat_train_set.copy() "
   ]
  },
  {
   "cell_type": "code",
   "execution_count": 188,
   "metadata": {},
   "outputs": [
    {
     "data": {
      "text/html": [
       "<div>\n",
       "<style scoped>\n",
       "    .dataframe tbody tr th:only-of-type {\n",
       "        vertical-align: middle;\n",
       "    }\n",
       "\n",
       "    .dataframe tbody tr th {\n",
       "        vertical-align: top;\n",
       "    }\n",
       "\n",
       "    .dataframe thead th {\n",
       "        text-align: right;\n",
       "    }\n",
       "</style>\n",
       "<table border=\"1\" class=\"dataframe\">\n",
       "  <thead>\n",
       "    <tr style=\"text-align: right;\">\n",
       "      <th></th>\n",
       "      <th>VAERS_ID</th>\n",
       "      <th>STATE</th>\n",
       "      <th>AGE_YRS</th>\n",
       "      <th>SEX</th>\n",
       "      <th>DIED</th>\n",
       "      <th>RECOVD</th>\n",
       "      <th>OTHER_MEDS</th>\n",
       "      <th>CUR_ILL</th>\n",
       "      <th>HISTORY</th>\n",
       "      <th>PRIOR_VAX</th>\n",
       "      <th>ALLERGIES</th>\n",
       "      <th>START_DATE</th>\n",
       "    </tr>\n",
       "  </thead>\n",
       "  <tbody>\n",
       "    <tr>\n",
       "      <th>137201</th>\n",
       "      <td>1609860</td>\n",
       "      <td>IL</td>\n",
       "      <td>53.0</td>\n",
       "      <td>F</td>\n",
       "      <td>N</td>\n",
       "      <td>U</td>\n",
       "      <td>N</td>\n",
       "      <td>N</td>\n",
       "      <td>N</td>\n",
       "      <td>N</td>\n",
       "      <td>N</td>\n",
       "      <td>0</td>\n",
       "    </tr>\n",
       "    <tr>\n",
       "      <th>184339</th>\n",
       "      <td>1267698</td>\n",
       "      <td>MO</td>\n",
       "      <td>19.0</td>\n",
       "      <td>F</td>\n",
       "      <td>N</td>\n",
       "      <td>Y</td>\n",
       "      <td>Y</td>\n",
       "      <td>N</td>\n",
       "      <td>N</td>\n",
       "      <td>N</td>\n",
       "      <td>N</td>\n",
       "      <td>1</td>\n",
       "    </tr>\n",
       "    <tr>\n",
       "      <th>393926</th>\n",
       "      <td>1598365</td>\n",
       "      <td>FL</td>\n",
       "      <td>75.0</td>\n",
       "      <td>F</td>\n",
       "      <td>N</td>\n",
       "      <td>Y</td>\n",
       "      <td>Y</td>\n",
       "      <td>N</td>\n",
       "      <td>N</td>\n",
       "      <td>N</td>\n",
       "      <td>N</td>\n",
       "      <td>0</td>\n",
       "    </tr>\n",
       "    <tr>\n",
       "      <th>206765</th>\n",
       "      <td>1174256</td>\n",
       "      <td>CA</td>\n",
       "      <td>42.0</td>\n",
       "      <td>F</td>\n",
       "      <td>N</td>\n",
       "      <td>Y</td>\n",
       "      <td>Y</td>\n",
       "      <td>Y</td>\n",
       "      <td>Y</td>\n",
       "      <td>N</td>\n",
       "      <td>N</td>\n",
       "      <td>30</td>\n",
       "    </tr>\n",
       "    <tr>\n",
       "      <th>365061</th>\n",
       "      <td>1343632</td>\n",
       "      <td>UT</td>\n",
       "      <td>34.0</td>\n",
       "      <td>F</td>\n",
       "      <td>N</td>\n",
       "      <td>Y</td>\n",
       "      <td>Y</td>\n",
       "      <td>N</td>\n",
       "      <td>Y</td>\n",
       "      <td>N</td>\n",
       "      <td>Y</td>\n",
       "      <td>3</td>\n",
       "    </tr>\n",
       "  </tbody>\n",
       "</table>\n",
       "</div>"
      ],
      "text/plain": [
       "        VAERS_ID STATE  AGE_YRS SEX DIED RECOVD OTHER_MEDS CUR_ILL HISTORY  \\\n",
       "137201   1609860    IL     53.0   F    N      U          N       N       N   \n",
       "184339   1267698    MO     19.0   F    N      Y          Y       N       N   \n",
       "393926   1598365    FL     75.0   F    N      Y          Y       N       N   \n",
       "206765   1174256    CA     42.0   F    N      Y          Y       Y       Y   \n",
       "365061   1343632    UT     34.0   F    N      Y          Y       N       Y   \n",
       "\n",
       "       PRIOR_VAX ALLERGIES  START_DATE  \n",
       "137201         N         N           0  \n",
       "184339         N         N           1  \n",
       "393926         N         N           0  \n",
       "206765         N         N          30  \n",
       "365061         N         Y           3  "
      ]
     },
     "execution_count": 188,
     "metadata": {},
     "output_type": "execute_result"
    }
   ],
   "source": [
    "explore.head()"
   ]
  },
  {
   "cell_type": "code",
   "execution_count": 189,
   "metadata": {},
   "outputs": [
    {
     "name": "stdout",
     "output_type": "stream",
     "text": [
      "            VAERS_ID   AGE_YRS  START_DATE\n",
      "VAERS_ID    1.000000 -0.046401    0.092014\n",
      "AGE_YRS    -0.046401  1.000000    0.120857\n",
      "START_DATE  0.092014  0.120857    1.000000\n"
     ]
    }
   ],
   "source": [
    "correlation = explore.corr()\n",
    "\n",
    "print(correlation)"
   ]
  },
  {
   "cell_type": "code",
   "execution_count": 190,
   "metadata": {},
   "outputs": [
    {
     "data": {
      "text/plain": [
       "Y       134637\n",
       "N       125173\n",
       "U        66181\n",
       "None     34666\n",
       "Name: RECOVD, dtype: int64"
      ]
     },
     "execution_count": 190,
     "metadata": {},
     "output_type": "execute_result"
    }
   ],
   "source": [
    "explore[\"RECOVD\"].value_counts()"
   ]
  },
  {
   "cell_type": "code",
   "execution_count": 191,
   "metadata": {},
   "outputs": [
    {
     "data": {
      "text/plain": [
       "CA      37185\n",
       "None    33237\n",
       "FL      20998\n",
       "TX      20736\n",
       "NY      19536\n",
       "        ...  \n",
       "MH          2\n",
       "XV          1\n",
       "QM          1\n",
       "Ca          1\n",
       "XL          1\n",
       "Name: STATE, Length: 64, dtype: int64"
      ]
     },
     "execution_count": 191,
     "metadata": {},
     "output_type": "execute_result"
    }
   ],
   "source": [
    "explore[\"STATE\"].value_counts()"
   ]
  },
  {
   "cell_type": "code",
   "execution_count": 194,
   "metadata": {},
   "outputs": [
    {
     "data": {
      "text/plain": [
       "N    341032\n",
       "Y     19625\n",
       "Name: PRIOR_VAX, dtype: int64"
      ]
     },
     "execution_count": 194,
     "metadata": {},
     "output_type": "execute_result"
    }
   ],
   "source": [
    "explore[\"PRIOR_VAX\"].value_counts()"
   ]
  },
  {
   "cell_type": "code",
   "execution_count": 193,
   "metadata": {},
   "outputs": [
    {
     "data": {
      "text/plain": [
       "F    252392\n",
       "M    103171\n",
       "U      5094\n",
       "Name: SEX, dtype: int64"
      ]
     },
     "execution_count": 193,
     "metadata": {},
     "output_type": "execute_result"
    }
   ],
   "source": [
    "explore[\"SEX\"].value_counts()"
   ]
  },
  {
   "cell_type": "code",
   "execution_count": 195,
   "metadata": {},
   "outputs": [
    {
     "data": {
      "text/plain": [
       "N    356633\n",
       "Y      4024\n",
       "Name: DIED, dtype: int64"
      ]
     },
     "execution_count": 195,
     "metadata": {},
     "output_type": "execute_result"
    }
   ],
   "source": [
    "explore[\"DIED\"].value_counts()"
   ]
  },
  {
   "cell_type": "code",
   "execution_count": 196,
   "metadata": {},
   "outputs": [
    {
     "data": {
      "text/plain": [
       "Y    184210\n",
       "N    176446\n",
       "n         1\n",
       "Name: OTHER_MEDS, dtype: int64"
      ]
     },
     "execution_count": 196,
     "metadata": {},
     "output_type": "execute_result"
    }
   ],
   "source": [
    "explore[\"OTHER_MEDS\"].value_counts()"
   ]
  },
  {
   "cell_type": "code",
   "execution_count": 197,
   "metadata": {},
   "outputs": [
    {
     "data": {
      "text/plain": [
       "N    314406\n",
       "Y     46249\n",
       "n         2\n",
       "Name: CUR_ILL, dtype: int64"
      ]
     },
     "execution_count": 197,
     "metadata": {},
     "output_type": "execute_result"
    }
   ],
   "source": [
    "explore[\"CUR_ILL\"].value_counts()"
   ]
  },
  {
   "cell_type": "code",
   "execution_count": 198,
   "metadata": {},
   "outputs": [
    {
     "data": {
      "text/plain": [
       "N    201362\n",
       "Y    159294\n",
       "n         1\n",
       "Name: HISTORY, dtype: int64"
      ]
     },
     "execution_count": 198,
     "metadata": {},
     "output_type": "execute_result"
    }
   ],
   "source": [
    "explore[\"HISTORY\"].value_counts()"
   ]
  },
  {
   "cell_type": "markdown",
   "metadata": {},
   "source": [
    "---"
   ]
  },
  {
   "cell_type": "markdown",
   "metadata": {},
   "source": [
    "# Data cleaning pipeline"
   ]
  },
  {
   "cell_type": "markdown",
   "metadata": {},
   "source": [
    "---"
   ]
  },
  {
   "cell_type": "markdown",
   "metadata": {},
   "source": [
    "### fix misspelled attributes and drop None values"
   ]
  },
  {
   "cell_type": "code",
   "execution_count": 11,
   "metadata": {},
   "outputs": [],
   "source": [
    "from sklearn.base import BaseEstimator, TransformerMixin\n",
    "\n",
    "\n",
    "\n",
    "class Edit_attributes(BaseEstimator, TransformerMixin):\n",
    "    def __init__(self): \n",
    "        self.e = None\n",
    "\n",
    "    def fit(self, sett, y=None):\n",
    "        return self # nothing else to do\n",
    "\n",
    "    def transform(self, sett, y=None):\n",
    "\n",
    "        sett[\"STATE\"].where(sett[\"STATE\"] != \"AS\", \"AZ\", inplace=True)\n",
    "        sett[\"STATE\"].where(sett[\"STATE\"] != \"Ca\", \"CA\", inplace=True)\n",
    "        sett[\"STATE\"].where(sett[\"STATE\"] != \"DC\", \"WA\", inplace=True)\n",
    "        sett[\"STATE\"].where(sett[\"STATE\"] != \"FM\", \"FL\", inplace=True)\n",
    "        sett[\"STATE\"].where(sett[\"STATE\"] != \"MH\", \"MA\", inplace=True)\n",
    "        sett[\"STATE\"].where(sett[\"STATE\"] != \"MP\", \"MS\", inplace=True)\n",
    "        sett[\"STATE\"].where(sett[\"STATE\"] != \"VI\", \"VA\", inplace=True)\n",
    "        sett[\"STATE\"].where(sett[\"STATE\"] != \"GU\", None, inplace=True)\n",
    "        sett[\"STATE\"].where(sett[\"STATE\"] != \"PR\", None, inplace=True)\n",
    "        sett[\"STATE\"].where(sett[\"STATE\"] != \"QM\", None, inplace=True)\n",
    "        sett[\"STATE\"].where(sett[\"STATE\"] != \"XB\", None, inplace=True)\n",
    "        sett[\"STATE\"].where(sett[\"STATE\"] != \"XL\", None, inplace=True)\n",
    "        sett[\"STATE\"].where(sett[\"STATE\"] != \"XV\", None, inplace=True)\n",
    "        sett[\"STATE\"].where(sett[\"STATE\"] != \"None\", None, inplace=True)\n",
    "\n",
    "        sett[\"SEX\"].where(sett[\"SEX\"] != \"U\", None, inplace=True)\n",
    "\n",
    "        sett[\"RECOVD\"].where(sett[\"RECOVD\"] != \"U\", None, inplace=True)\n",
    "        sett[\"RECOVD\"].where(sett[\"RECOVD\"] != \"None\", None, inplace=True)\n",
    "\n",
    "        sett[\"OTHER_MEDS\"].where(sett[\"OTHER_MEDS\"] != \"n\", \"N\", inplace=True)\n",
    "\n",
    "        sett[\"CUR_ILL\"].where(sett[\"CUR_ILL\"] != \"n\", \"N\", inplace=True)\n",
    "\n",
    "        sett[\"HISTORY\"].where(sett[\"HISTORY\"] != \"n\", \"N\", inplace=True)\n",
    "\n",
    "        sett[\"ALLERGIES\"].where(sett[\"ALLERGIES\"] != \"n\", \"N\", inplace=True)\n",
    "\n",
    "        sett = sett.dropna()\n",
    "\n",
    "        return sett\n"
   ]
  },
  {
   "cell_type": "markdown",
   "metadata": {},
   "source": [
    "---"
   ]
  },
  {
   "cell_type": "markdown",
   "metadata": {},
   "source": [
    "### convert text values into numeric and onehot encode"
   ]
  },
  {
   "cell_type": "code",
   "execution_count": 12,
   "metadata": {},
   "outputs": [],
   "source": [
    "from sklearn.preprocessing import LabelEncoder\n",
    "from sklearn.preprocessing import OneHotEncoder\n",
    "\n",
    "\n",
    "\n",
    "class Custom_Encoder(BaseEstimator, TransformerMixin):\n",
    "    def __init__(self): \n",
    "        self.encoder = None\n",
    "\n",
    "    def fit(self, my_data, y=None):\n",
    "        return self # nothing else to do\n",
    "\n",
    "    def transform(self, my_data, y=None):\n",
    "\n",
    "        encoder1 = LabelEncoder()\n",
    "        my_data.iloc[:,1] = (encoder1.fit_transform(my_data.iloc[:,1])).reshape(-1,1)\n",
    "        encoder3 = LabelEncoder()\n",
    "        my_data.iloc[:,3] = (encoder3.fit_transform(my_data.iloc[:,3])).reshape(-1,1)\n",
    "        encoder4 = LabelEncoder()\n",
    "        my_data.iloc[:,4] = (encoder4.fit_transform(my_data.iloc[:,4])).reshape(-1,1)\n",
    "        encoder5 = LabelEncoder()\n",
    "        my_data.iloc[:,5] = (encoder5.fit_transform(my_data.iloc[:,5])).reshape(-1,1)\n",
    "        encoder6 = LabelEncoder()\n",
    "        my_data.iloc[:,6] = (encoder6.fit_transform(my_data.iloc[:,6])).reshape(-1,1)\n",
    "        encoder7 = LabelEncoder()\n",
    "        my_data.iloc[:,7] = (encoder7.fit_transform(my_data.iloc[:,7])).reshape(-1,1)\n",
    "        encoder8 = LabelEncoder()\n",
    "        my_data.iloc[:,8] = (encoder8.fit_transform(my_data.iloc[:,8])).reshape(-1,1)\n",
    "        encoder9 = LabelEncoder()\n",
    "        my_data.iloc[:,9] = (encoder9.fit_transform(my_data.iloc[:,9])).reshape(-1,1)\n",
    "        encoder10 = LabelEncoder()\n",
    "        my_data.iloc[:,10] = (encoder10.fit_transform(my_data.iloc[:,10])).reshape(-1,1)\n",
    "        \n",
    "        catagories = my_data.drop([\"VAERS_ID\", \"AGE_YRS\", \"START_DATE\"], axis=1)\n",
    "        \n",
    "        \n",
    "        onehotencoder = OneHotEncoder()\n",
    "        encoded = onehotencoder.fit_transform(catagories).toarray()\n",
    "\n",
    "        return encoded\n"
   ]
  },
  {
   "cell_type": "markdown",
   "metadata": {},
   "source": [
    "### select the specified list of columns"
   ]
  },
  {
   "cell_type": "code",
   "execution_count": 13,
   "metadata": {},
   "outputs": [],
   "source": [
    "\n",
    "\n",
    "# transforms the data by selecting the desired \n",
    "# attributes (numerical or categorical) , dropping \n",
    "# the rest, and converting the resulting \n",
    "# DataFrame to a NumPy array \n",
    "\n",
    "\n",
    "class DataFrameSelector(BaseEstimator, TransformerMixin):\n",
    "    def __init__(self, attribute_names):\n",
    "        self.attribute_names = attribute_names\n",
    "    def fit(self, X, y=None):\n",
    "        return self\n",
    "    def transform(self, X):\n",
    "        return X[self.attribute_names].values"
   ]
  },
  {
   "cell_type": "markdown",
   "metadata": {},
   "source": [
    "## Final pipeline"
   ]
  },
  {
   "cell_type": "code",
   "execution_count": 14,
   "metadata": {},
   "outputs": [],
   "source": [
    "from sklearn.pipeline import FeatureUnion\n",
    "from sklearn.pipeline import Pipeline\n",
    "from sklearn.preprocessing import StandardScaler\n",
    "\n",
    "\n",
    "\n",
    "label_pipeline = Pipeline([\n",
    "        (\"editor\",Edit_attributes()),\n",
    "        (\"selector\", DataFrameSelector([\"START_DATE\"]))         \n",
    "    ])\n",
    "\n",
    "\n",
    "num_pipeline = Pipeline([\n",
    "        (\"editor\", Edit_attributes()),\n",
    "        (\"selector\", DataFrameSelector([\"AGE_YRS\"])),   # select attributes numerical or catagorical\n",
    "        (\"std_scaler\", StandardScaler())              # scale features(standardization)\n",
    "    ])\n",
    "\n",
    "cat_pipeline = Pipeline([\n",
    "        (\"editor\",Edit_attributes()),\n",
    "        (\"encoder\", Custom_Encoder())         \n",
    "    ])\n",
    "\n",
    "\n",
    "full_pipeline = FeatureUnion(transformer_list=[\n",
    "        (\"num_pipeline\", num_pipeline),\n",
    "        (\"cat_pipeline\", cat_pipeline),\n",
    "    ])"
   ]
  },
  {
   "cell_type": "markdown",
   "metadata": {},
   "source": [
    "## Transform"
   ]
  },
  {
   "cell_type": "code",
   "execution_count": 15,
   "metadata": {},
   "outputs": [],
   "source": [
    "my_labels = label_pipeline.fit_transform(strat_train_set)"
   ]
  },
  {
   "cell_type": "code",
   "execution_count": 16,
   "metadata": {},
   "outputs": [
    {
     "data": {
      "text/plain": [
       "(241173, 1)"
      ]
     },
     "execution_count": 16,
     "metadata": {},
     "output_type": "execute_result"
    }
   ],
   "source": [
    "my_labels.shape"
   ]
  },
  {
   "cell_type": "code",
   "execution_count": 17,
   "metadata": {},
   "outputs": [],
   "source": [
    "pd.options.mode.chained_assignment = None  # default='warn'\n",
    "\n",
    "attributes = full_pipeline.fit_transform(strat_train_set)\n"
   ]
  },
  {
   "cell_type": "code",
   "execution_count": 18,
   "metadata": {},
   "outputs": [
    {
     "data": {
      "text/plain": [
       "(241173, 67)"
      ]
     },
     "execution_count": 18,
     "metadata": {},
     "output_type": "execute_result"
    }
   ],
   "source": [
    "attributes.shape"
   ]
  },
  {
   "cell_type": "markdown",
   "metadata": {},
   "source": [
    "---"
   ]
  },
  {
   "cell_type": "markdown",
   "metadata": {},
   "source": [
    "# Select and Train a Model\n"
   ]
  },
  {
   "cell_type": "code",
   "execution_count": 19,
   "metadata": {},
   "outputs": [
    {
     "data": {
      "text/plain": [
       "LinearRegression()"
      ]
     },
     "execution_count": 19,
     "metadata": {},
     "output_type": "execute_result"
    }
   ],
   "source": [
    "from sklearn.linear_model import LinearRegression\n",
    "\n",
    "\n",
    "lin_reg = LinearRegression()\n",
    "lin_reg.fit(attributes, my_labels)"
   ]
  },
  {
   "cell_type": "code",
   "execution_count": 20,
   "metadata": {},
   "outputs": [
    {
     "name": "stdout",
     "output_type": "stream",
     "text": [
      "Predictions:\t [[ 9.6015625]\n",
      " [22.5390625]\n",
      " [10.3984375]\n",
      " [13.25     ]\n",
      " [25.90625  ]]\n"
     ]
    }
   ],
   "source": [
    "some_data = attributes[0:5]\n",
    "some_labels = my_labels[0:5]\n",
    "print(\"Predictions:\\t\", lin_reg.predict(some_data))\n"
   ]
  },
  {
   "cell_type": "code",
   "execution_count": 21,
   "metadata": {},
   "outputs": [
    {
     "data": {
      "text/plain": [
       "array([[ 1],\n",
       "       [ 0],\n",
       "       [30],\n",
       "       [ 3],\n",
       "       [ 4]], dtype=int64)"
      ]
     },
     "execution_count": 21,
     "metadata": {},
     "output_type": "execute_result"
    }
   ],
   "source": [
    "some_labels"
   ]
  },
  {
   "cell_type": "code",
   "execution_count": 22,
   "metadata": {},
   "outputs": [
    {
     "data": {
      "text/plain": [
       "48.4841199297184"
      ]
     },
     "execution_count": 22,
     "metadata": {},
     "output_type": "execute_result"
    }
   ],
   "source": [
    "from sklearn.metrics import mean_squared_error\n",
    "\n",
    "\n",
    "predictions = lin_reg.predict(attributes)\n",
    "lin_mse = mean_squared_error(my_labels, predictions)\n",
    "lin_rmse = np.sqrt(lin_mse)\n",
    "lin_rmse"
   ]
  },
  {
   "cell_type": "code",
   "execution_count": null,
   "metadata": {},
   "outputs": [],
   "source": [
    "def display_scores(scores):\n",
    "    print(\"Scores:\", scores)\n",
    "    print(\"Mean:\", scores.mean())\n",
    "    print(\"Standard deviation:\", scores.std())"
   ]
  },
  {
   "cell_type": "code",
   "execution_count": 31,
   "metadata": {},
   "outputs": [
    {
     "name": "stdout",
     "output_type": "stream",
     "text": [
      "Scores: [53.59353176 53.94501175 53.91184126 54.00214602 54.0062685 ]\n",
      "Mean: 53.891759857637545\n",
      "Standard deviation: 0.15328167351421526\n"
     ]
    }
   ],
   "source": [
    "linear_reg = LinearRegression()\n",
    "\n",
    "\n",
    "linear_scores = cross_val_score(linear_reg, attributes, my_labels,\n",
    "                            scoring=\"neg_mean_squared_error\", cv=5)\n",
    "linear_rmse_scores = np.sqrt(-forest_scores)\n",
    "display_scores(linear_rmse_scores)"
   ]
  },
  {
   "cell_type": "markdown",
   "metadata": {},
   "source": [
    "---"
   ]
  },
  {
   "cell_type": "code",
   "execution_count": 23,
   "metadata": {},
   "outputs": [
    {
     "data": {
      "text/plain": [
       "DecisionTreeRegressor()"
      ]
     },
     "execution_count": 23,
     "metadata": {},
     "output_type": "execute_result"
    }
   ],
   "source": [
    "from sklearn.tree import DecisionTreeRegressor\n",
    "\n",
    "\n",
    "tree_reg = DecisionTreeRegressor()\n",
    "tree_reg.fit(attributes, my_labels)"
   ]
  },
  {
   "cell_type": "code",
   "execution_count": 24,
   "metadata": {},
   "outputs": [
    {
     "data": {
      "text/plain": [
       "37.12585719019061"
      ]
     },
     "execution_count": 24,
     "metadata": {},
     "output_type": "execute_result"
    }
   ],
   "source": [
    "tree_predictions = tree_reg.predict(attributes)\n",
    "tree_mse = mean_squared_error(my_labels, tree_predictions)\n",
    "tree_rmse = np.sqrt(tree_mse)\n",
    "tree_rmse"
   ]
  },
  {
   "cell_type": "markdown",
   "metadata": {},
   "source": [
    "---"
   ]
  },
  {
   "cell_type": "code",
   "execution_count": 27,
   "metadata": {},
   "outputs": [],
   "source": [
    "from sklearn.model_selection import cross_val_score\n",
    "\n",
    "\n",
    "scores = cross_val_score(tree_reg, attributes, my_labels,\n",
    "                        scoring=\"neg_mean_squared_error\", cv=10)\n",
    "rmse_scores = np.sqrt(-scores)"
   ]
  },
  {
   "cell_type": "code",
   "execution_count": 28,
   "metadata": {},
   "outputs": [
    {
     "name": "stdout",
     "output_type": "stream",
     "text": [
      "Scores: [59.53963375 59.18524882 59.00969894 59.84477178 59.22384085 59.9486998\n",
      " 59.94415634 58.74719272 58.9516453  60.34322787]\n",
      "Mean: 59.473811618831384\n",
      "Standard deviation: 0.5006354655931988\n"
     ]
    }
   ],
   "source": [
    " \n",
    "display_scores(rmse_scores)"
   ]
  },
  {
   "cell_type": "code",
   "execution_count": 29,
   "metadata": {},
   "outputs": [
    {
     "name": "stderr",
     "output_type": "stream",
     "text": [
      "C:\\Users\\abreham\\Anaconda3\\lib\\site-packages\\sklearn\\model_selection\\_validation.py:598: DataConversionWarning: A column-vector y was passed when a 1d array was expected. Please change the shape of y to (n_samples,), for example using ravel().\n",
      "  estimator.fit(X_train, y_train, **fit_params)\n",
      "C:\\Users\\abreham\\Anaconda3\\lib\\site-packages\\sklearn\\model_selection\\_validation.py:598: DataConversionWarning: A column-vector y was passed when a 1d array was expected. Please change the shape of y to (n_samples,), for example using ravel().\n",
      "  estimator.fit(X_train, y_train, **fit_params)\n",
      "C:\\Users\\abreham\\Anaconda3\\lib\\site-packages\\sklearn\\model_selection\\_validation.py:598: DataConversionWarning: A column-vector y was passed when a 1d array was expected. Please change the shape of y to (n_samples,), for example using ravel().\n",
      "  estimator.fit(X_train, y_train, **fit_params)\n",
      "C:\\Users\\abreham\\Anaconda3\\lib\\site-packages\\sklearn\\model_selection\\_validation.py:598: DataConversionWarning: A column-vector y was passed when a 1d array was expected. Please change the shape of y to (n_samples,), for example using ravel().\n",
      "  estimator.fit(X_train, y_train, **fit_params)\n",
      "C:\\Users\\abreham\\Anaconda3\\lib\\site-packages\\sklearn\\model_selection\\_validation.py:598: DataConversionWarning: A column-vector y was passed when a 1d array was expected. Please change the shape of y to (n_samples,), for example using ravel().\n",
      "  estimator.fit(X_train, y_train, **fit_params)\n"
     ]
    },
    {
     "name": "stdout",
     "output_type": "stream",
     "text": [
      "Scores: [53.59353176 53.94501175 53.91184126 54.00214602 54.0062685 ]\n",
      "Mean: 53.891759857637545\n",
      "Standard deviation: 0.15328167351421526\n"
     ]
    }
   ],
   "source": [
    "from sklearn.ensemble import RandomForestRegressor\n",
    "\n",
    "forest_reg = RandomForestRegressor()\n",
    "\n",
    "forest_scores = cross_val_score(forest_reg, attributes, my_labels,\n",
    "                            scoring=\"neg_mean_squared_error\", cv=5)\n",
    "forest_rmse_scores = np.sqrt(-forest_scores)\n",
    "display_scores(forest_rmse_scores)\n"
   ]
  },
  {
   "cell_type": "code",
   "execution_count": 35,
   "metadata": {},
   "outputs": [
    {
     "data": {
      "text/plain": [
       "['linear_model_for_onset_date_prediction.pkl']"
      ]
     },
     "execution_count": 35,
     "metadata": {},
     "output_type": "execute_result"
    }
   ],
   "source": [
    "import joblib\n",
    "joblib.dump(forest_reg, \"forest_model_for_onset_date_prediction.pkl\")\n",
    "joblib.dump(tree_reg, \"tree_model_for_onset_date_prediction.pkl\")\n",
    "joblib.dump(linear_reg, \"linear_model_for_onset_date_prediction.pkl\")"
   ]
  },
  {
   "cell_type": "markdown",
   "metadata": {},
   "source": [
    "---"
   ]
  }
 ],
 "metadata": {
  "kernelspec": {
   "display_name": "Python 3",
   "language": "python",
   "name": "python3"
  },
  "language_info": {
   "codemirror_mode": {
    "name": "ipython",
    "version": 3
   },
   "file_extension": ".py",
   "mimetype": "text/x-python",
   "name": "python",
   "nbconvert_exporter": "python",
   "pygments_lexer": "ipython3",
   "version": "3.7.0"
  }
 },
 "nbformat": 4,
 "nbformat_minor": 2
}
